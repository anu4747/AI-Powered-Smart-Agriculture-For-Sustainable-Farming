{
  "nbformat": 4,
  "nbformat_minor": 0,
  "metadata": {
    "colab": {
      "provenance": [],
      "authorship_tag": "ABX9TyN2gHczJSoy9GTjLG11F6AV",
      "include_colab_link": true
    },
    "kernelspec": {
      "name": "python3",
      "display_name": "Python 3"
    },
    "language_info": {
      "name": "python"
    }
  },
  "cells": [
    {
      "cell_type": "markdown",
      "metadata": {
        "id": "view-in-github",
        "colab_type": "text"
      },
      "source": [
        "<a href=\"https://colab.research.google.com/github/anu4747/AI-Powered-Smart-Agriculture-For-Sustainable-Farming/blob/main/Untitled0.ipynb\" target=\"_parent\"><img src=\"https://colab.research.google.com/assets/colab-badge.svg\" alt=\"Open In Colab\"/></a>"
      ]
    },
    {
      "cell_type": "code",
      "execution_count": null,
      "metadata": {
        "id": "6azGjfLpyuzo"
      },
      "outputs": [],
      "source": []
    },
    {
      "cell_type": "code",
      "source": [
        "# AI-Powered Smart Agriculture: Irrigation Decision System\n",
        "# Import necessary libraries\n",
        "from sklearn.tree import DecisionTreeClassifier\n",
        "import numpy as np\n",
        "\n",
        "# Simulated dataset: [Soil Moisture, Temperature, Humidity] and target [0 = No Water, 1 = Water]\n",
        "X = np.array([\n",
        "    [20, 35, 40],  # Dry soil, high temp => needs water\n",
        "    [80, 25, 70],  # Moist soil => no water\n",
        "    [30, 30, 50],  # Medium dry => water\n",
        "    [75, 20, 80],  # Moist soil => no water\n",
        "    [25, 33, 45]   # Dry => water\n",
        "])\n",
        "y = np.array([1, 0, 1, 0, 1])  # Labels\n",
        "\n",
        "# Train the model\n",
        "model = DecisionTreeClassifier()\n",
        "model.fit(X, y)\n",
        "\n",
        "# New sensor data: [Soil Moisture, Temperature, Humidity]\n",
        "new_data = np.array([[28, 34, 55]])  # Slightly dry and hot\n",
        "\n",
        "# Predict\n",
        "prediction = model.predict(new_data)\n",
        "\n",
        "# Output\n",
        "if prediction[0] == 1:\n",
        "    print(\"💧 Action: The crop needs watering.\")\n",
        "else:\n",
        "    print(\"✅ Action: No need to water the crop now.\")"
      ],
      "metadata": {
        "colab": {
          "base_uri": "https://localhost:8080/"
        },
        "id": "yjofOjpky1xF",
        "outputId": "66aa3129-377c-4f26-a3e1-266cfbf84b2b"
      },
      "execution_count": 1,
      "outputs": [
        {
          "output_type": "stream",
          "name": "stdout",
          "text": [
            "💧 Action: The crop needs watering.\n"
          ]
        }
      ]
    }
  ]
}